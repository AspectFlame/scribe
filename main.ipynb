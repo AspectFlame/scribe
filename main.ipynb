{
 "cells": [
  {
   "cell_type": "code",
   "execution_count": null,
   "metadata": {},
   "outputs": [],
   "source": [
    "%pip install opencv-python"
   ]
  },
  {
   "cell_type": "code",
   "execution_count": null,
   "metadata": {},
   "outputs": [],
   "source": [
    "%pip install mediapipe"
   ]
  },
  {
   "cell_type": "code",
   "execution_count": null,
   "metadata": {},
   "outputs": [],
   "source": [
    "import mediapipe as mp\n",
    "\n",
    "# Load Model\n",
    "hands = mp.solutions.hands\n",
    "hand_landmark = hands.Hands(max_num_hands=1)"
   ]
  },
  {
   "cell_type": "code",
   "execution_count": null,
   "metadata": {},
   "outputs": [],
   "source": [
    "# Camera frame resolution\n",
    "frame_shape = (1080, 1920, 3)"
   ]
  },
  {
   "cell_type": "code",
   "execution_count": null,
   "metadata": {},
   "outputs": [],
   "source": [
    "# Import\n",
    "import cv2\n",
    "import numpy as np\n",
    "\n",
    "prevxy = None\n",
    "mask = np.zeros(frame_shape, dtype='uint8') # to premanently draw\n",
    "colour = (0, 0, 0)\n",
    "thickness = 4\n",
    "\n",
    "# Access camera\n",
    "cap = cv2.VideoCapture(0)\n",
    "draw = mp.solutions.drawing_utils\n",
    "\n",
    "# Read/Show frame's from camera\n",
    "while True:\n",
    "    _, frame = cap.read() # BGR -> RGB\n",
    "    frame = cv2.flip(frame,1)\n",
    "\n",
    "    \n",
    "    rgb = cv2.cvtColor(frame, cv2.COLOR_BGR2RGB)\n",
    "    op = hand_landmark.process(rgb)\n",
    "    \n",
    "    if op.multi_hand_landmarks:\n",
    "        for all_landmarks in op.multi_hand_landmarks: # \n",
    "            draw.draw_landmarks(frame, all_landmarks, hands.HAND_CONNECTIONS)\n",
    "            \n",
    "            x = int(all_landmarks.landmark[8].x*frame_shape[1])\n",
    "            y = int(all_landmarks.landmark[8].y*frame_shape[0])\n",
    "            \n",
    "            if prevxy != None:\n",
    "                # draw stuf\n",
    "                cv2.line(mask, prevxy, (x, y), colour, thickness)\n",
    "            prevxy = (x, y)\n",
    "            \n",
    "    # Merge Frame and Mask\n",
    "    frame = np.where(mask, mask, frame)\n",
    "    \n",
    "    cv2.imshow('Live', frame)\n",
    "    if cv2.waitKey(1) == 27: # ESC\n",
    "        break\n",
    "\n",
    "cap.release()"
   ]
  }
 ],
 "metadata": {
  "language_info": {
   "name": "python"
  }
 },
 "nbformat": 4,
 "nbformat_minor": 2
}

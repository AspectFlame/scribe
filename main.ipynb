{
 "cells": [
  {
   "cell_type": "code",
   "execution_count": null,
   "metadata": {},
   "outputs": [],
   "source": [
    "%pip install opencv-python"
   ]
  },
  {
   "cell_type": "code",
   "execution_count": null,
   "metadata": {},
   "outputs": [],
   "source": [
    "%pip install mediapipe"
   ]
  },
  {
   "cell_type": "code",
   "execution_count": null,
   "metadata": {},
   "outputs": [],
   "source": [
    "import mediapipe as mp\n",
    "\n",
    "# Load Model\n",
    "hands = mp.solutions.hands\n",
    "hand_landmark = hands.Hands(max_num_hands=1)"
   ]
  },
  {
   "cell_type": "code",
   "execution_count": null,
   "metadata": {},
   "outputs": [],
   "source": [
    "# Camera frame resolution\n",
    "frame_shape = (1080, 1920, 3)"
   ]
  },
  {
   "cell_type": "code",
   "execution_count": null,
   "metadata": {},
   "outputs": [],
   "source": [
    "# # Import\n",
    "# import cv2\n",
    "# import numpy as np\n",
    "\n",
    "# prevxy = None\n",
    "# mask = np.zeros(frame_shape, dtype='uint8') # to premanently draw\n",
    "# colour = (1, 1, 1)\n",
    "# thickness = 4\n",
    "\n",
    "# # Access camera\n",
    "# cap = cv2.VideoCapture(0)\n",
    "# draw = mp.solutions.drawing_utils\n",
    "\n",
    "# # Read/Show frame's from camera\n",
    "# while True:\n",
    "#     _, frame = cap.read() # BGR -> RGB\n",
    "#     frame = cv2.flip(frame,1)\n",
    "\n",
    "    \n",
    "#     rgb = cv2.cvtColor(frame, cv2.COLOR_BGR2RGB)\n",
    "#     op = hand_landmark.process(rgb)\n",
    "    \n",
    "#     if op.multi_hand_landmarks:\n",
    "#         for all_landmarks in op.multi_hand_landmarks: # \n",
    "#             draw.draw_landmarks(frame, all_landmarks, hands.HAND_CONNECTIONS)\n",
    "            \n",
    "#             x = int(all_landmarks.landmark[8].x*frame_shape[1])\n",
    "#             y = int(all_landmarks.landmark[8].y*frame_shape[0])\n",
    "            \n",
    "#             if prevxy != None:\n",
    "#                 # draw stuf\n",
    "#                 cv2.line(mask, prevxy, (x, y), colour, thickness)\n",
    "#             prevxy = (x, y)\n",
    "            \n",
    "#     # Merge Frame and Mask\n",
    "#     frame = np.where(mask, mask, frame)\n",
    "    \n",
    "#     cv2.imshow('Live', frame)\n",
    "#     if cv2.waitKey(1) == 27: # ESC\n",
    "#         break\n",
    "\n",
    "# cap.release()"
   ]
  },
  {
   "cell_type": "code",
   "execution_count": 2,
   "metadata": {},
   "outputs": [
    {
     "name": "stderr",
     "output_type": "stream",
     "text": [
      "I0000 00:00:1725472605.876492 5858579 gl_context.cc:357] GL version: 2.1 (2.1 Metal - 88.1), renderer: Apple M3 Pro\n",
      "W0000 00:00:1725472605.884873 5871896 inference_feedback_manager.cc:114] Feedback manager requires a model with a single signature inference. Disabling support for feedback tensors.\n",
      "W0000 00:00:1725472605.890376 5871894 inference_feedback_manager.cc:114] Feedback manager requires a model with a single signature inference. Disabling support for feedback tensors.\n"
     ]
    }
   ],
   "source": [
    "import cv2\n",
    "import numpy as np\n",
    "import mediapipe as mp\n",
    "\n",
    "# Initialize MediaPipe Hands\n",
    "mp_hands = mp.solutions.hands\n",
    "hands = mp_hands.Hands(static_image_mode=False, max_num_hands=2, min_detection_confidence=0.5, min_tracking_confidence=0.5)\n",
    "draw = mp.solutions.drawing_utils\n",
    "\n",
    "# Initialize camera\n",
    "cap = cv2.VideoCapture(0)\n",
    "\n",
    "# Read the first frame to get frame dimensions\n",
    "_, frame = cap.read()\n",
    "frame_shape = frame.shape\n",
    "\n",
    "# Initialize drawing mask and previous coordinates\n",
    "prevxy = None\n",
    "mask = np.zeros(frame_shape, dtype='uint8')  # To permanently draw on the mask\n",
    "colour = (255,255,255)  # White color for drawing\n",
    "thickness = 9\n",
    "\n",
    "# Read/Show frames from camera\n",
    "while True:\n",
    "    _, frame = cap.read()\n",
    "    frame = cv2.flip(frame, 1)  # Flip the frame horizontally\n",
    "\n",
    "    # Convert frame to RGB for MediaPipe processing\n",
    "    rgb = cv2.cvtColor(frame, cv2.COLOR_BGR2RGB)\n",
    "    op = hands.process(rgb)\n",
    "\n",
    "    if op.multi_hand_landmarks:\n",
    "        for all_landmarks in op.multi_hand_landmarks: \n",
    "            # Get points for index finger landmarks 5, 6, and 7\n",
    "            point_A = np.array([all_landmarks.landmark[5].x, all_landmarks.landmark[5].y, all_landmarks.landmark[5].z])  # Point A\n",
    "            point_B = np.array([all_landmarks.landmark[6].x, all_landmarks.landmark[6].y, all_landmarks.landmark[6].z])  # Point B\n",
    "            point_C = np.array([all_landmarks.landmark[7].x, all_landmarks.landmark[7].y, all_landmarks.landmark[7].z])  # Point C\n",
    "\n",
    "            # Calculate vectors\n",
    "            vector_AB = point_B - point_A\n",
    "            vector_BC = point_C - point_B\n",
    "\n",
    "            # Calculate dot product and magnitudes\n",
    "            dot_product = np.dot(vector_AB, vector_BC)\n",
    "            magnitude_AB = np.linalg.norm(vector_AB)\n",
    "            magnitude_BC = np.linalg.norm(vector_BC)\n",
    "\n",
    "            # Calculate the angle in radians and convert to degrees\n",
    "            cosine_angle = dot_product / (magnitude_AB * magnitude_BC)\n",
    "            cosine_angle = np.clip(cosine_angle, -1.0, 1.0)\n",
    "\n",
    "            angle_degrees = np.degrees(np.arccos(cosine_angle))\n",
    "            \n",
    "            # Check if the finger is mostly straight (angle close to 180 degrees)\n",
    "            draw.draw_landmarks(frame, all_landmarks, mp_hands.HAND_CONNECTIONS)\n",
    "\n",
    "            # Get the tip of the index finger (landmark 8)\n",
    "            x = int(all_landmarks.landmark[8].x * frame_shape[1])\n",
    "            y = int(all_landmarks.landmark[8].y * frame_shape[0])\n",
    "            if abs(angle_degrees % 180) > 16:  # You can adjust the threshold as needed\n",
    "\n",
    "                prevxy = None\n",
    "                \n",
    "            else:\n",
    "                # Reset the previous point if the finger is not straight\n",
    "                if prevxy != None:\n",
    "                    cv2.line(mask, prevxy, (x, y), colour, thickness)\n",
    "                prevxy = (x, y)\n",
    "\n",
    "    # Merge Frame and Mask\n",
    "    frame = cv2.add(frame, mask)  # Use cv2.add to merge the mask with the frame\n",
    "    \n",
    "    # Show the live frame\n",
    "    cv2.imshow('Live', frame)\n",
    "    if cv2.waitKey(1) == 27:  # ESC key\n",
    "        break\n",
    "\n",
    "# Release the camera and close all windows\n",
    "cap.release()\n",
    "cv2.destroyAllWindows()\n"
   ]
  }
 ],
 "metadata": {
  "kernelspec": {
   "display_name": "Python 3",
   "language": "python",
   "name": "python3"
  },
  "language_info": {
   "codemirror_mode": {
    "name": "ipython",
    "version": 3
   },
   "file_extension": ".py",
   "mimetype": "text/x-python",
   "name": "python",
   "nbconvert_exporter": "python",
   "pygments_lexer": "ipython3",
   "version": "3.12.4"
  }
 },
 "nbformat": 4,
 "nbformat_minor": 2
}

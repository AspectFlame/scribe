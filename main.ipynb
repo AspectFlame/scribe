{
 "cells": [
  {
   "cell_type": "code",
   "execution_count": 1,
   "metadata": {},
   "outputs": [
    {
     "name": "stdout",
     "output_type": "stream",
     "text": [
      "Requirement already satisfied: opencv-python in /Library/Frameworks/Python.framework/Versions/3.12/lib/python3.12/site-packages (4.10.0.84)\n",
      "Requirement already satisfied: numpy>=1.21.2 in /Library/Frameworks/Python.framework/Versions/3.12/lib/python3.12/site-packages (from opencv-python) (1.26.4)\n",
      "Note: you may need to restart the kernel to use updated packages.\n"
     ]
    }
   ],
   "source": [
    "%pip install opencv-python"
   ]
  },
  {
   "cell_type": "code",
   "execution_count": 2,
   "metadata": {},
   "outputs": [
    {
     "name": "stdout",
     "output_type": "stream",
     "text": [
      "Requirement already satisfied: mediapipe in /Library/Frameworks/Python.framework/Versions/3.12/lib/python3.12/site-packages (0.10.15)\n",
      "Requirement already satisfied: absl-py in /Library/Frameworks/Python.framework/Versions/3.12/lib/python3.12/site-packages (from mediapipe) (2.1.0)\n",
      "Requirement already satisfied: attrs>=19.1.0 in /Library/Frameworks/Python.framework/Versions/3.12/lib/python3.12/site-packages (from mediapipe) (24.2.0)\n",
      "Requirement already satisfied: flatbuffers>=2.0 in /Library/Frameworks/Python.framework/Versions/3.12/lib/python3.12/site-packages (from mediapipe) (24.3.25)\n",
      "Requirement already satisfied: jax in /Library/Frameworks/Python.framework/Versions/3.12/lib/python3.12/site-packages (from mediapipe) (0.4.31)\n",
      "Requirement already satisfied: jaxlib in /Library/Frameworks/Python.framework/Versions/3.12/lib/python3.12/site-packages (from mediapipe) (0.4.31)\n",
      "Requirement already satisfied: matplotlib in /Library/Frameworks/Python.framework/Versions/3.12/lib/python3.12/site-packages (from mediapipe) (3.9.2)\n",
      "Requirement already satisfied: numpy<2 in /Library/Frameworks/Python.framework/Versions/3.12/lib/python3.12/site-packages (from mediapipe) (1.26.4)\n",
      "Requirement already satisfied: opencv-contrib-python in /Library/Frameworks/Python.framework/Versions/3.12/lib/python3.12/site-packages (from mediapipe) (4.10.0.84)\n",
      "Requirement already satisfied: protobuf<5,>=4.25.3 in /Library/Frameworks/Python.framework/Versions/3.12/lib/python3.12/site-packages (from mediapipe) (4.25.4)\n",
      "Requirement already satisfied: sounddevice>=0.4.4 in /Library/Frameworks/Python.framework/Versions/3.12/lib/python3.12/site-packages (from mediapipe) (0.5.0)\n",
      "Requirement already satisfied: CFFI>=1.0 in /Library/Frameworks/Python.framework/Versions/3.12/lib/python3.12/site-packages (from sounddevice>=0.4.4->mediapipe) (1.17.0)\n",
      "Requirement already satisfied: ml-dtypes>=0.2.0 in /Library/Frameworks/Python.framework/Versions/3.12/lib/python3.12/site-packages (from jax->mediapipe) (0.4.0)\n",
      "Requirement already satisfied: opt-einsum in /Library/Frameworks/Python.framework/Versions/3.12/lib/python3.12/site-packages (from jax->mediapipe) (3.3.0)\n",
      "Requirement already satisfied: scipy>=1.10 in /Library/Frameworks/Python.framework/Versions/3.12/lib/python3.12/site-packages (from jax->mediapipe) (1.14.1)\n",
      "Requirement already satisfied: contourpy>=1.0.1 in /Library/Frameworks/Python.framework/Versions/3.12/lib/python3.12/site-packages (from matplotlib->mediapipe) (1.3.0)\n",
      "Requirement already satisfied: cycler>=0.10 in /Library/Frameworks/Python.framework/Versions/3.12/lib/python3.12/site-packages (from matplotlib->mediapipe) (0.12.1)\n",
      "Requirement already satisfied: fonttools>=4.22.0 in /Library/Frameworks/Python.framework/Versions/3.12/lib/python3.12/site-packages (from matplotlib->mediapipe) (4.53.1)\n",
      "Requirement already satisfied: kiwisolver>=1.3.1 in /Library/Frameworks/Python.framework/Versions/3.12/lib/python3.12/site-packages (from matplotlib->mediapipe) (1.4.6)\n",
      "Requirement already satisfied: packaging>=20.0 in /Users/kaushiknarasimhan/Library/Python/3.12/lib/python/site-packages (from matplotlib->mediapipe) (24.1)\n",
      "Requirement already satisfied: pillow>=8 in /Library/Frameworks/Python.framework/Versions/3.12/lib/python3.12/site-packages (from matplotlib->mediapipe) (10.4.0)\n",
      "Requirement already satisfied: pyparsing>=2.3.1 in /Library/Frameworks/Python.framework/Versions/3.12/lib/python3.12/site-packages (from matplotlib->mediapipe) (3.1.4)\n",
      "Requirement already satisfied: python-dateutil>=2.7 in /Users/kaushiknarasimhan/Library/Python/3.12/lib/python/site-packages (from matplotlib->mediapipe) (2.9.0.post0)\n",
      "Requirement already satisfied: pycparser in /Library/Frameworks/Python.framework/Versions/3.12/lib/python3.12/site-packages (from CFFI>=1.0->sounddevice>=0.4.4->mediapipe) (2.22)\n",
      "Requirement already satisfied: six>=1.5 in /Users/kaushiknarasimhan/Library/Python/3.12/lib/python/site-packages (from python-dateutil>=2.7->matplotlib->mediapipe) (1.16.0)\n",
      "Note: you may need to restart the kernel to use updated packages.\n"
     ]
    }
   ],
   "source": [
    "%pip install mediapipe"
   ]
  },
  {
   "cell_type": "code",
   "execution_count": 3,
   "metadata": {},
   "outputs": [
    {
     "name": "stderr",
     "output_type": "stream",
     "text": [
      "WARNING: All log messages before absl::InitializeLog() is called are written to STDERR\n",
      "I0000 00:00:1725502411.161625 6264562 gl_context.cc:357] GL version: 2.1 (2.1 Metal - 88.1), renderer: Apple M3 Pro\n",
      "INFO: Created TensorFlow Lite XNNPACK delegate for CPU.\n"
     ]
    }
   ],
   "source": [
    "import mediapipe as mp\n",
    "\n",
    "# Load Model\n",
    "hands = mp.solutions.hands\n",
    "hand_landmark = hands.Hands(max_num_hands=1)"
   ]
  },
  {
   "cell_type": "code",
   "execution_count": 4,
   "metadata": {},
   "outputs": [
    {
     "name": "stderr",
     "output_type": "stream",
     "text": [
      "W0000 00:00:1725502411.167324 6264697 inference_feedback_manager.cc:114] Feedback manager requires a model with a single signature inference. Disabling support for feedback tensors.\n"
     ]
    }
   ],
   "source": [
    "# Camera frame resolution\n",
    "frame_shape = (1080, 1920, 3)"
   ]
  },
  {
   "cell_type": "code",
   "execution_count": 5,
   "metadata": {},
   "outputs": [],
   "source": [
    "# # Import\n",
    "# import cv2\n",
    "# import numpy as np\n",
    "\n",
    "# prevxy = None\n",
    "# mask = np.zeros(frame_shape, dtype='uint8') # to premanently draw\n",
    "# colour = (1, 1, 1)\n",
    "# thickness = 4\n",
    "\n",
    "# # Access camera\n",
    "# cap = cv2.VideoCapture(0)\n",
    "# draw = mp.solutions.drawing_utils\n",
    "\n",
    "# # Read/Show frame's from camera\n",
    "# while True:\n",
    "#     _, frame = cap.read() # BGR -> RGB\n",
    "#     frame = cv2.flip(frame,1)\n",
    "\n",
    "    \n",
    "#     rgb = cv2.cvtColor(frame, cv2.COLOR_BGR2RGB)\n",
    "#     op = hand_landmark.process(rgb)\n",
    "    \n",
    "#     if op.multi_hand_landmarks:\n",
    "#         for all_landmarks in op.multi_hand_landmarks: # \n",
    "#             draw.draw_landmarks(frame, all_landmarks, hands.HAND_CONNECTIONS)\n",
    "            \n",
    "#             x = int(all_landmarks.landmark[8].x*frame_shape[1])\n",
    "#             y = int(all_landmarks.landmark[8].y*frame_shape[0])\n",
    "            \n",
    "#             if prevxy != None:\n",
    "#                 # draw stuf\n",
    "#                 cv2.line(mask, prevxy, (x, y), colour, thickness)\n",
    "#             prevxy = (x, y)\n",
    "            \n",
    "#     # Merge Frame and Mask\n",
    "#     frame = np.where(mask, mask, frame)\n",
    "    \n",
    "#     cv2.imshow('Live', frame)\n",
    "#     if cv2.waitKey(1) == 27: # ESC\n",
    "#         break\n",
    "\n",
    "# cap.release()"
   ]
  },
  {
   "cell_type": "code",
   "execution_count": 11,
   "metadata": {},
   "outputs": [
    {
     "name": "stderr",
     "output_type": "stream",
     "text": [
      "I0000 00:00:1725817415.179384 6264562 gl_context.cc:357] GL version: 2.1 (2.1 Metal - 88.1), renderer: Apple M3 Pro\n",
      "W0000 00:00:1725817415.194441 7714692 inference_feedback_manager.cc:114] Feedback manager requires a model with a single signature inference. Disabling support for feedback tensors.\n",
      "W0000 00:00:1725817415.202195 7714692 inference_feedback_manager.cc:114] Feedback manager requires a model with a single signature inference. Disabling support for feedback tensors.\n"
     ]
    }
   ],
   "source": [
    "import cv2\n",
    "import numpy as np\n",
    "import mediapipe as mp\n",
    "\n",
    "\n",
    "# Initialize MediaPipe Hands\n",
    "mp_hands = mp.solutions.hands\n",
    "hands = mp_hands.Hands(static_image_mode=False, max_num_hands=2, min_detection_confidence=0.5, min_tracking_confidence=0.5)\n",
    "draw = mp.solutions.drawing_utils\n",
    "\n",
    "# Initialize camera\n",
    "cap = cv2.VideoCapture(0)\n",
    "\n",
    "# Read the first frame to get frame dimensions\n",
    "_, frame = cap.read()\n",
    "frame_shape = frame.shape\n",
    "\n",
    "# Initialize drawing mask and previous coordinates\n",
    "prevxy = None\n",
    "mask = np.zeros(frame_shape, dtype='uint8')  # To permanently draw on the mask\n",
    "colour = (255,255,255)  # White color for drawing\n",
    "thickness = 9\n",
    "\n",
    "# Read/Show frames from camera\n",
    "while True:\n",
    "    _, frame = cap.read()\n",
    "    frame = cv2.flip(frame, 1)  # Flip the frame horizontally\n",
    "\n",
    "    # Convert frame to RGB for MediaPipe processing\n",
    "    rgb = cv2.cvtColor(frame, cv2.COLOR_BGR2RGB)\n",
    "    op = hands.process(rgb)\n",
    "\n",
    "    if op.multi_hand_landmarks:\n",
    "        for all_landmarks in op.multi_hand_landmarks:\n",
    "            # Get points for index finger landmarks 5, 6, and 7\n",
    "            index_A = np.array([all_landmarks.landmark[5].x, all_landmarks.landmark[5].y, all_landmarks.landmark[5].z])  # Point A\n",
    "            index_B = np.array([all_landmarks.landmark[6].x, all_landmarks.landmark[6].y, all_landmarks.landmark[6].z])  # Point B\n",
    "            index_C = np.array([all_landmarks.landmark[7].x, all_landmarks.landmark[7].y, all_landmarks.landmark[7].z])  # Point C\n",
    "\n",
    "            # Get points for middle finger landmarks 9, 10, and 11\n",
    "            middle_A = np.array([all_landmarks.landmark[9].x, all_landmarks.landmark[9].y, all_landmarks.landmark[9].z])  # Point A\n",
    "            middle_B = np.array([all_landmarks.landmark[10].x, all_landmarks.landmark[10].y, all_landmarks.landmark[10].z])  # Point B\n",
    "            middle_C = np.array([all_landmarks.landmark[11].x, all_landmarks.landmark[11].y, all_landmarks.landmark[11].z])  # Point C\n",
    "\n",
    "            # Calculate vectors for both fingers\n",
    "            vector_index_AB = index_B - index_A\n",
    "            vector_index_BC = index_C - index_B\n",
    "            vector_middle_AB = middle_B - middle_A\n",
    "            vector_middle_BC = middle_C - middle_B\n",
    "\n",
    "            # Calculate dot product and magnitudes for both fingers\n",
    "            dot_product_index = np.dot(vector_index_AB, vector_index_BC)\n",
    "            magnitude_index_AB = np.linalg.norm(vector_index_AB)\n",
    "            magnitude_index_BC = np.linalg.norm(vector_index_BC)\n",
    "            cosine_angle_index = dot_product_index / (magnitude_index_AB * magnitude_index_BC)\n",
    "            cosine_angle_index = np.clip(cosine_angle_index, -1.0, 1.0)\n",
    "            angle_degrees_index = np.degrees(np.arccos(cosine_angle_index))\n",
    "\n",
    "            dot_product_middle = np.dot(vector_middle_AB, vector_middle_BC)\n",
    "            magnitude_middle_AB = np.linalg.norm(vector_middle_AB)\n",
    "            magnitude_middle_BC = np.linalg.norm(vector_middle_BC)\n",
    "            cosine_angle_middle = dot_product_middle / (magnitude_middle_AB * magnitude_middle_BC)\n",
    "            cosine_angle_middle = np.clip(cosine_angle_middle, -1.0, 1.0)\n",
    "            angle_degrees_middle = np.degrees(np.arccos(cosine_angle_middle))\n",
    "\n",
    "            # Get the tips of the index and middle fingers\n",
    "            index_tip_x = int(all_landmarks.landmark[8].x * frame_shape[1])\n",
    "            index_tip_y = int(all_landmarks.landmark[8].y * frame_shape[0])\n",
    "            middle_tip_x = int(all_landmarks.landmark[12].x * frame_shape[1])\n",
    "            middle_tip_y = int(all_landmarks.landmark[12].y * frame_shape[0])\n",
    "\n",
    "            # Check if the fingers are straight (angle close to 180 degrees)\n",
    "            is_index_straight = abs(angle_degrees_index % 180) <= 16\n",
    "            is_middle_straight = abs(angle_degrees_middle % 180) <= 16\n",
    "\n",
    "            # Perform the appropriate action based on the finger positions\n",
    "            if is_middle_straight and not is_index_straight:\n",
    "                # Middle finger is straight, index finger is bent: erase\n",
    "                cv2.circle(frame, (middle_tip_x, middle_tip_y), 30, (0, 0, 0), -1)\n",
    "                cv2.circle(mask, (middle_tip_x, middle_tip_y), 30, (0, 0, 0), -1)\n",
    "            elif is_index_straight and not is_middle_straight:\n",
    "                # Index finger is straight, middle finger is bent: draw\n",
    "                draw.draw_landmarks(frame, all_landmarks, mp_hands.HAND_CONNECTIONS)\n",
    "                if prevxy is not None:\n",
    "                    cv2.line(mask, prevxy, (index_tip_x, index_tip_y), colour, thickness)\n",
    "                prevxy = (index_tip_x, index_tip_y)\n",
    "            else:\n",
    "                # Neither finger is straight or both are straight: do nothing\n",
    "                prevxy = None\n",
    "\n",
    "\n",
    "    # Merge Frame and Mask\n",
    "    frame = cv2.add(frame, mask)  # Use cv2.add to merge the mask with the frame\n",
    "    \n",
    "    # Show the live frame\n",
    "    cv2.imshow('Live', frame)\n",
    "    if cv2.waitKey(1) == 27:  # ESC key\n",
    "        break\n",
    "\n",
    "# Release the camera and close all windows\n",
    "cap.release()\n",
    "cv2.destroyAllWindows()\n"
   ]
  }
 ],
 "metadata": {
  "kernelspec": {
   "display_name": "Python 3",
   "language": "python",
   "name": "python3"
  },
  "language_info": {
   "codemirror_mode": {
    "name": "ipython",
    "version": 3
   },
   "file_extension": ".py",
   "mimetype": "text/x-python",
   "name": "python",
   "nbconvert_exporter": "python",
   "pygments_lexer": "ipython3",
   "version": "3.12.4"
  }
 },
 "nbformat": 4,
 "nbformat_minor": 2
}
